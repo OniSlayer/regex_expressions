{
 "cells": [
  {
   "cell_type": "code",
   "execution_count": 1,
   "metadata": {},
   "outputs": [],
   "source": [
    "# The \"re\" module contains funcitons related to regex\n",
    "import re"
   ]
  },
  {
   "cell_type": "code",
   "execution_count": 2,
   "metadata": {},
   "outputs": [],
   "source": [
    "# Import pandas for using regex on dataframes\n",
    "import pandas as pd"
   ]
  },
  {
   "cell_type": "code",
   "execution_count": 3,
   "metadata": {},
   "outputs": [
    {
     "name": "stdout",
     "output_type": "stream",
     "text": [
      "<re.Match object; span=(0, 2), match='Ho'>\n"
     ]
    }
   ],
   "source": [
    "# You can use the re.search function to see if a pattern has a match\n",
    "match_or_not = re.search(\"H[oq]\", \"Hola\")\n",
    "print(match_or_not)"
   ]
  },
  {
   "cell_type": "code",
   "execution_count": 4,
   "metadata": {},
   "outputs": [
    {
     "name": "stdout",
     "output_type": "stream",
     "text": [
      "None\n"
     ]
    }
   ],
   "source": [
    "# If there is no match, the function will return None\n",
    "not_matched = re.search(\"Jo\", \"Holla\")\n",
    "print(not_matched)"
   ]
  },
  {
   "cell_type": "code",
   "execution_count": 6,
   "metadata": {},
   "outputs": [],
   "source": [
    "# Defining a helper function to return matches against a series\n",
    "\n",
    "def test_match(pattern, series):\n",
    "    boolean = series.str.contains(pattern)\n",
    "    return series[boolean]\n"
   ]
  },
  {
   "cell_type": "code",
   "execution_count": 8,
   "metadata": {},
   "outputs": [
    {
     "data": {
      "text/plain": [
       "0    Hello\n",
       "1    Jallo\n",
       "dtype: object"
      ]
     },
     "execution_count": 8,
     "metadata": {},
     "output_type": "execute_result"
    }
   ],
   "source": [
    "# Sets are used to check if a character in an specific position is on a list of characters\n",
    "\n",
    "sets = pd.Series([\"Hello\", \"Jallo\", \"fEllow\"])\n",
    "\n",
    "test_match(r'[ea]l',sets)"
   ]
  },
  {
   "cell_type": "code",
   "execution_count": 16,
   "metadata": {},
   "outputs": [
    {
     "data": {
      "text/plain": [
       "0    1uno\n",
       "1    2dos\n",
       "dtype: object"
      ]
     },
     "execution_count": 16,
     "metadata": {},
     "output_type": "execute_result"
    }
   ],
   "source": [
    "# Sets can also be written as ranges\n",
    "# [0-9]\n",
    "# [a-z] (lower case letters from a to z)\n",
    "# [A-Z] (upper case letters)\n",
    "# [0-9a-zA-Z] (the combination of uppercase letters, lowercase letters and digits)\n",
    "\n",
    "\n",
    "sets2 = pd.Series([\"1uno\", \"2dos\", \"tres\"])\n",
    "\n",
    "test_match(r'[0-9]\\w+', sets2)"
   ]
  },
  {
   "cell_type": "code",
   "execution_count": 17,
   "metadata": {},
   "outputs": [
    {
     "data": {
      "text/plain": [
       "0    1 uno\n",
       "1    2 dos\n",
       "dtype: object"
      ]
     },
     "execution_count": 17,
     "metadata": {},
     "output_type": "execute_result"
    }
   ],
   "source": [
    "# Shorthand notation for sets, also known as character classes are\n",
    "# \\d for digits\n",
    "# \\w for words\n",
    "# \\s fro space, tabs and linebreaks\n",
    "# . for any character except newline\n",
    "\n",
    "sets3 = pd.Series([\"1 uno\", \"2 dos\", \"tres\"])\n",
    "\n",
    "# This regex match any word that has a number in the first position, a space on the second position and\n",
    "# a character on the third and following positions\n",
    "\n",
    "test_match(r'[\\d][\\s][\\w]+', sets3)"
   ]
  },
  {
   "cell_type": "code",
   "execution_count": 19,
   "metadata": {},
   "outputs": [
    {
     "data": {
      "text/plain": [
       "0    aalas\n",
       "1    alaas\n",
       "dtype: object"
      ]
     },
     "execution_count": 19,
     "metadata": {},
     "output_type": "execute_result"
    }
   ],
   "source": [
    "# Quantifiers indicate the times a character or set can appear and are written in curved brackets\n",
    "quantifiers = pd.Series(['aalas', 'alaas', 'alas'])\n",
    "\n",
    "# This regex match any word that contains the letter a two times\n",
    "test_match(r'[a]{2}', quantifiers)"
   ]
  },
  {
   "cell_type": "code",
   "execution_count": 21,
   "metadata": {},
   "outputs": [
    {
     "data": {
      "text/plain": [
       "0        a space\n",
       "1    a     space\n",
       "dtype: object"
      ]
     },
     "execution_count": 21,
     "metadata": {},
     "output_type": "execute_result"
    }
   ],
   "source": [
    "# Quantifiers also have a shorthand syntax\n",
    "\n",
    "quantifiers2 = pd.Series([\"a space\", \"a     space\", \"aspace\"])\n",
    "\n",
    "# a* to match the expression zero or more times\n",
    "# a+ to indicate that the expression can appear one or more times\n",
    "# a? to indicate that the expression can appear one or no times\n",
    "test_match(r'a\\s+\\w', quantifiers2)"
   ]
  },
  {
   "cell_type": "code",
   "execution_count": 22,
   "metadata": {},
   "outputs": [
    {
     "data": {
      "text/html": [
       "<div>\n",
       "<style scoped>\n",
       "    .dataframe tbody tr th:only-of-type {\n",
       "        vertical-align: middle;\n",
       "    }\n",
       "\n",
       "    .dataframe tbody tr th {\n",
       "        vertical-align: top;\n",
       "    }\n",
       "\n",
       "    .dataframe thead th {\n",
       "        text-align: right;\n",
       "    }\n",
       "</style>\n",
       "<table border=\"1\" class=\"dataframe\">\n",
       "  <thead>\n",
       "    <tr style=\"text-align: right;\">\n",
       "      <th></th>\n",
       "      <th>0</th>\n",
       "    </tr>\n",
       "  </thead>\n",
       "  <tbody>\n",
       "    <tr>\n",
       "      <th>0</th>\n",
       "      <td>890430</td>\n",
       "    </tr>\n",
       "    <tr>\n",
       "      <th>1</th>\n",
       "      <td>NaN</td>\n",
       "    </tr>\n",
       "    <tr>\n",
       "      <th>2</th>\n",
       "      <td>NaN</td>\n",
       "    </tr>\n",
       "    <tr>\n",
       "      <th>3</th>\n",
       "      <td>890890</td>\n",
       "    </tr>\n",
       "  </tbody>\n",
       "</table>\n",
       "</div>"
      ],
      "text/plain": [
       "        0\n",
       "0  890430\n",
       "1     NaN\n",
       "2     NaN\n",
       "3  890890"
      ]
     },
     "execution_count": 22,
     "metadata": {},
     "output_type": "execute_result"
    }
   ],
   "source": [
    "# When using pandas, you can use str.extract and capture groups to get a part of a string\n",
    "capture_groups = pd.Series([\"Phone 890430\", \"Lada 9803\", \"A pig\", \"Phone 890890\"])\n",
    "\n",
    "# Capture groups are written using parenthesis\n",
    "extracted = capture_groups.str.extract(r'Phone ([\\d]+)')\n",
    "extracted"
   ]
  },
  {
   "cell_type": "code",
   "execution_count": 25,
   "metadata": {},
   "outputs": [
    {
     "data": {
      "text/plain": [
       "0      series a 789089049\n",
       "2       series a 23489083\n",
       "3    series c 89034890483\n",
       "dtype: object"
      ]
     },
     "execution_count": 25,
     "metadata": {},
     "output_type": "execute_result"
    }
   ],
   "source": [
    "# Negative characters indicate that a certain character in a given position can take any values except the ones specified\n",
    "# on the negative set. This sets are denoted with a carret\n",
    "\n",
    "negative_sets = pd.Series([\"series a 789089049\", \"series b 8940380\", \"series a 23489083\", \"series c 89034890483\"])\n",
    "\n",
    "\n",
    "# This regex match anything that don't have a b after the series\n",
    "test_match(r'series [^b]', negative_sets)"
   ]
  },
  {
   "cell_type": "code",
   "execution_count": 33,
   "metadata": {},
   "outputs": [
    {
     "data": {
      "text/plain": [
       "1    this is a c\n",
       "2      another c\n",
       "dtype: object"
      ]
     },
     "execution_count": 33,
     "metadata": {},
     "output_type": "execute_result"
    }
   ],
   "source": [
    "# Word boundaries happens at the end and beginning of a string or between word characters\n",
    "# They are dennoted with \\b\n",
    "word_boundaries = pd.Series([\"this is a a\", \"this is a c\", \"another c\", \" a coconut\"])\n",
    "\n",
    "# This regex would match anything that has a c at the end of the line\n",
    "test_match(r'.+c\\b', word_boundaries)"
   ]
  },
  {
   "cell_type": "code",
   "execution_count": 36,
   "metadata": {},
   "outputs": [
    {
     "name": "stdout",
     "output_type": "stream",
     "text": [
      "At the beginning 0    Red at the beginning\n",
      "dtype: object\n",
      "At the end 1    At the end Red\n",
      "dtype: object\n"
     ]
    }
   ],
   "source": [
    "# Anchors, specially at the beginning and at the end are usefull to match expression that \n",
    "# have a certain pattern in the beginning or in the end of the string\n",
    "\n",
    "# ^ is used as a beninning anchor\n",
    "# $ is used as an end anchor\n",
    "\n",
    "anchors = pd.Series([\"Red at the beginning\", \"At the end Red\"])\n",
    "\n",
    "print(\"At the beginning\", test_match(r'^Red', anchors))\n",
    "\n",
    "print(\"At the end\", test_match(r'Red$', anchors))"
   ]
  }
 ],
 "metadata": {
  "kernelspec": {
   "display_name": "Python 3",
   "language": "python",
   "name": "python3"
  },
  "language_info": {
   "codemirror_mode": {
    "name": "ipython",
    "version": 3
   },
   "file_extension": ".py",
   "mimetype": "text/x-python",
   "name": "python",
   "nbconvert_exporter": "python",
   "pygments_lexer": "ipython3",
   "version": "3.7.3"
  }
 },
 "nbformat": 4,
 "nbformat_minor": 2
}
